{
 "cells": [
  {
   "cell_type": "markdown",
   "metadata": {},
   "source": [
    "# ML Pipeline Preparation\n",
    "Follow the instructions below to help you create your ML pipeline.\n",
    "### 1. Import libraries and load data from database.\n",
    "- Import Python libraries\n",
    "- Load dataset from database with [`read_sql_table`](https://pandas.pydata.org/pandas-docs/stable/generated/pandas.read_sql_table.html)\n",
    "- Define feature and target variables X and Y"
   ]
  },
  {
   "cell_type": "code",
   "execution_count": 1,
   "metadata": {},
   "outputs": [
    {
     "name": "stdout",
     "output_type": "stream",
     "text": [
      "[nltk_data] Downloading package punkt to /root/nltk_data...\n",
      "[nltk_data]   Unzipping tokenizers/punkt.zip.\n",
      "[nltk_data] Downloading package stopwords to /root/nltk_data...\n",
      "[nltk_data]   Unzipping corpora/stopwords.zip.\n",
      "[nltk_data] Downloading package wordnet to /root/nltk_data...\n",
      "[nltk_data]   Unzipping corpora/wordnet.zip.\n"
     ]
    }
   ],
   "source": [
    "# import libraries\n",
    "import pandas as pd\n",
    "import numpy as np\n",
    "from sqlalchemy import create_engine\n",
    "import re\n",
    "import pickle\n",
    "import nltk\n",
    "\n",
    "nltk.download('punkt')\n",
    "nltk.download('stopwords')\n",
    "nltk.download('wordnet')\n",
    "\n",
    "from nltk.corpus import stopwords\n",
    "from nltk.tokenize import word_tokenize\n",
    "from nltk.stem.porter import PorterStemmer\n",
    "from nltk.stem import WordNetLemmatizer\n",
    "\n",
    "from sklearn.pipeline import Pipeline, FeatureUnion\n",
    "from sklearn.feature_extraction.text import CountVectorizer, TfidfTransformer\n",
    "from sklearn.model_selection import train_test_split, GridSearchCV\n",
    "from sklearn.ensemble import RandomForestClassifier, AdaBoostClassifier\n",
    "from sklearn.multioutput import MultiOutputClassifier\n",
    "from sklearn.model_selection import GridSearchCV\n",
    "from sklearn.svm import SVC\n",
    "from sklearn.metrics import classification_report\n",
    "\n",
    "import warnings\n",
    "\n",
    "warnings.simplefilter('ignore')"
   ]
  },
  {
   "cell_type": "code",
   "execution_count": 2,
   "metadata": {},
   "outputs": [
    {
     "name": "stdout",
     "output_type": "stream",
     "text": [
      "categories.csv                     ML Pipeline Preparation.ipynb\r\n",
      "DisasterResponse.db                ML Pipeline Preparation-zh.ipynb\r\n",
      "ETL Pipeline Preparation.ipynb     model.sav\r\n",
      "ETL Pipeline Preparation-zh.ipynb  Twitter-sentiment-self-drive-DFE.csv\r\n",
      "messages.csv\r\n"
     ]
    }
   ],
   "source": [
    "ls"
   ]
  },
  {
   "cell_type": "code",
   "execution_count": 3,
   "metadata": {},
   "outputs": [],
   "source": [
    "# load data from database\n",
    "engine = create_engine('sqlite:///DisasterResponse.db')\n",
    "df = pd.read_sql(\"SELECT * FROM DisasterResponse\", engine)\n",
    "\n",
    "#X = df['message']\n",
    "#Y = df.drop(['id', 'message', 'original', 'genre'], axis = 1) "
   ]
  },
  {
   "cell_type": "code",
   "execution_count": 4,
   "metadata": {},
   "outputs": [
    {
     "data": {
      "text/html": [
       "<div>\n",
       "<style scoped>\n",
       "    .dataframe tbody tr th:only-of-type {\n",
       "        vertical-align: middle;\n",
       "    }\n",
       "\n",
       "    .dataframe tbody tr th {\n",
       "        vertical-align: top;\n",
       "    }\n",
       "\n",
       "    .dataframe thead th {\n",
       "        text-align: right;\n",
       "    }\n",
       "</style>\n",
       "<table border=\"1\" class=\"dataframe\">\n",
       "  <thead>\n",
       "    <tr style=\"text-align: right;\">\n",
       "      <th></th>\n",
       "      <th>id</th>\n",
       "      <th>message</th>\n",
       "      <th>original</th>\n",
       "      <th>genre</th>\n",
       "      <th>related</th>\n",
       "      <th>request</th>\n",
       "      <th>offer</th>\n",
       "      <th>aid_related</th>\n",
       "      <th>medical_help</th>\n",
       "      <th>medical_products</th>\n",
       "      <th>...</th>\n",
       "      <th>aid_centers</th>\n",
       "      <th>other_infrastructure</th>\n",
       "      <th>weather_related</th>\n",
       "      <th>floods</th>\n",
       "      <th>storm</th>\n",
       "      <th>fire</th>\n",
       "      <th>earthquake</th>\n",
       "      <th>cold</th>\n",
       "      <th>other_weather</th>\n",
       "      <th>direct_report</th>\n",
       "    </tr>\n",
       "  </thead>\n",
       "  <tbody>\n",
       "    <tr>\n",
       "      <th>0</th>\n",
       "      <td>2</td>\n",
       "      <td>Weather update - a cold front from Cuba that c...</td>\n",
       "      <td>Un front froid se retrouve sur Cuba ce matin. ...</td>\n",
       "      <td>direct</td>\n",
       "      <td>1</td>\n",
       "      <td>0</td>\n",
       "      <td>0</td>\n",
       "      <td>0</td>\n",
       "      <td>0</td>\n",
       "      <td>0</td>\n",
       "      <td>...</td>\n",
       "      <td>0</td>\n",
       "      <td>0</td>\n",
       "      <td>0</td>\n",
       "      <td>0</td>\n",
       "      <td>0</td>\n",
       "      <td>0</td>\n",
       "      <td>0</td>\n",
       "      <td>0</td>\n",
       "      <td>0</td>\n",
       "      <td>0</td>\n",
       "    </tr>\n",
       "    <tr>\n",
       "      <th>1</th>\n",
       "      <td>7</td>\n",
       "      <td>Is the Hurricane over or is it not over</td>\n",
       "      <td>Cyclone nan fini osinon li pa fini</td>\n",
       "      <td>direct</td>\n",
       "      <td>1</td>\n",
       "      <td>0</td>\n",
       "      <td>0</td>\n",
       "      <td>1</td>\n",
       "      <td>0</td>\n",
       "      <td>0</td>\n",
       "      <td>...</td>\n",
       "      <td>0</td>\n",
       "      <td>0</td>\n",
       "      <td>1</td>\n",
       "      <td>0</td>\n",
       "      <td>1</td>\n",
       "      <td>0</td>\n",
       "      <td>0</td>\n",
       "      <td>0</td>\n",
       "      <td>0</td>\n",
       "      <td>0</td>\n",
       "    </tr>\n",
       "    <tr>\n",
       "      <th>2</th>\n",
       "      <td>8</td>\n",
       "      <td>Looking for someone but no name</td>\n",
       "      <td>Patnm, di Maryani relem pou li banm nouvel li ...</td>\n",
       "      <td>direct</td>\n",
       "      <td>1</td>\n",
       "      <td>0</td>\n",
       "      <td>0</td>\n",
       "      <td>0</td>\n",
       "      <td>0</td>\n",
       "      <td>0</td>\n",
       "      <td>...</td>\n",
       "      <td>0</td>\n",
       "      <td>0</td>\n",
       "      <td>0</td>\n",
       "      <td>0</td>\n",
       "      <td>0</td>\n",
       "      <td>0</td>\n",
       "      <td>0</td>\n",
       "      <td>0</td>\n",
       "      <td>0</td>\n",
       "      <td>0</td>\n",
       "    </tr>\n",
       "    <tr>\n",
       "      <th>3</th>\n",
       "      <td>9</td>\n",
       "      <td>UN reports Leogane 80-90 destroyed. Only Hospi...</td>\n",
       "      <td>UN reports Leogane 80-90 destroyed. Only Hospi...</td>\n",
       "      <td>direct</td>\n",
       "      <td>1</td>\n",
       "      <td>1</td>\n",
       "      <td>0</td>\n",
       "      <td>1</td>\n",
       "      <td>0</td>\n",
       "      <td>1</td>\n",
       "      <td>...</td>\n",
       "      <td>0</td>\n",
       "      <td>0</td>\n",
       "      <td>0</td>\n",
       "      <td>0</td>\n",
       "      <td>0</td>\n",
       "      <td>0</td>\n",
       "      <td>0</td>\n",
       "      <td>0</td>\n",
       "      <td>0</td>\n",
       "      <td>0</td>\n",
       "    </tr>\n",
       "    <tr>\n",
       "      <th>4</th>\n",
       "      <td>12</td>\n",
       "      <td>says: west side of Haiti, rest of the country ...</td>\n",
       "      <td>facade ouest d Haiti et le reste du pays aujou...</td>\n",
       "      <td>direct</td>\n",
       "      <td>1</td>\n",
       "      <td>0</td>\n",
       "      <td>0</td>\n",
       "      <td>0</td>\n",
       "      <td>0</td>\n",
       "      <td>0</td>\n",
       "      <td>...</td>\n",
       "      <td>0</td>\n",
       "      <td>0</td>\n",
       "      <td>0</td>\n",
       "      <td>0</td>\n",
       "      <td>0</td>\n",
       "      <td>0</td>\n",
       "      <td>0</td>\n",
       "      <td>0</td>\n",
       "      <td>0</td>\n",
       "      <td>0</td>\n",
       "    </tr>\n",
       "  </tbody>\n",
       "</table>\n",
       "<p>5 rows × 39 columns</p>\n",
       "</div>"
      ],
      "text/plain": [
       "   id                                            message  \\\n",
       "0   2  Weather update - a cold front from Cuba that c...   \n",
       "1   7            Is the Hurricane over or is it not over   \n",
       "2   8                    Looking for someone but no name   \n",
       "3   9  UN reports Leogane 80-90 destroyed. Only Hospi...   \n",
       "4  12  says: west side of Haiti, rest of the country ...   \n",
       "\n",
       "                                            original   genre  related  \\\n",
       "0  Un front froid se retrouve sur Cuba ce matin. ...  direct        1   \n",
       "1                 Cyclone nan fini osinon li pa fini  direct        1   \n",
       "2  Patnm, di Maryani relem pou li banm nouvel li ...  direct        1   \n",
       "3  UN reports Leogane 80-90 destroyed. Only Hospi...  direct        1   \n",
       "4  facade ouest d Haiti et le reste du pays aujou...  direct        1   \n",
       "\n",
       "   request  offer  aid_related  medical_help  medical_products      ...        \\\n",
       "0        0      0            0             0                 0      ...         \n",
       "1        0      0            1             0                 0      ...         \n",
       "2        0      0            0             0                 0      ...         \n",
       "3        1      0            1             0                 1      ...         \n",
       "4        0      0            0             0                 0      ...         \n",
       "\n",
       "   aid_centers  other_infrastructure  weather_related  floods  storm  fire  \\\n",
       "0            0                     0                0       0      0     0   \n",
       "1            0                     0                1       0      1     0   \n",
       "2            0                     0                0       0      0     0   \n",
       "3            0                     0                0       0      0     0   \n",
       "4            0                     0                0       0      0     0   \n",
       "\n",
       "   earthquake  cold  other_weather  direct_report  \n",
       "0           0     0              0              0  \n",
       "1           0     0              0              0  \n",
       "2           0     0              0              0  \n",
       "3           0     0              0              0  \n",
       "4           0     0              0              0  \n",
       "\n",
       "[5 rows x 39 columns]"
      ]
     },
     "execution_count": 4,
     "metadata": {},
     "output_type": "execute_result"
    }
   ],
   "source": [
    "df.head()"
   ]
  },
  {
   "cell_type": "code",
   "execution_count": 5,
   "metadata": {},
   "outputs": [],
   "source": [
    "X = df['message']\n",
    "Y = df.drop(['id', 'message', 'original', 'genre'], axis = 1)"
   ]
  },
  {
   "cell_type": "markdown",
   "metadata": {},
   "source": [
    "### 2. Write a tokenization function to process your text data"
   ]
  },
  {
   "cell_type": "code",
   "execution_count": 6,
   "metadata": {},
   "outputs": [],
   "source": [
    "def tokenize(text):\n",
    "    \n",
    "    tokens = word_tokenize(text)\n",
    "    lemmatizer = WordNetLemmatizer()\n",
    "    clean_tokens = []\n",
    "    for tok in tokens:\n",
    "        clean_tok = lemmatizer.lemmatize(tok).lower().strip()\n",
    "        clean_tokens.append(clean_tok)\n",
    "\n",
    "    return clean_tokens"
   ]
  },
  {
   "cell_type": "markdown",
   "metadata": {},
   "source": [
    "### 3. Build a machine learning pipeline\n",
    "This machine pipeline should take in the `message` column as input and output classification results on the other 36 categories in the dataset. You may find the [MultiOutputClassifier](http://scikit-learn.org/stable/modules/generated/sklearn.multioutput.MultiOutputClassifier.html) helpful for predicting multiple target variables."
   ]
  },
  {
   "cell_type": "code",
   "execution_count": 7,
   "metadata": {},
   "outputs": [],
   "source": [
    "pipeline = Pipeline([\n",
    "        ('vect', CountVectorizer(tokenizer=tokenize)),\n",
    "        ('tfidf', TfidfTransformer()),\n",
    "        ('clf', MultiOutputClassifier(RandomForestClassifier()))\n",
    "    ])"
   ]
  },
  {
   "cell_type": "markdown",
   "metadata": {},
   "source": [
    "### 4. Train pipeline\n",
    "- Split data into train and test sets\n",
    "- Train pipeline"
   ]
  },
  {
   "cell_type": "code",
   "execution_count": 8,
   "metadata": {},
   "outputs": [
    {
     "data": {
      "text/plain": [
       "Pipeline(memory=None,\n",
       "     steps=[('vect', CountVectorizer(analyzer='word', binary=False, decode_error='strict',\n",
       "        dtype=<class 'numpy.int64'>, encoding='utf-8', input='content',\n",
       "        lowercase=True, max_df=1.0, max_features=None, min_df=1,\n",
       "        ngram_range=(1, 1), preprocessor=None, stop_words=None,\n",
       "        strip...oob_score=False, random_state=None, verbose=0,\n",
       "            warm_start=False),\n",
       "           n_jobs=1))])"
      ]
     },
     "execution_count": 8,
     "metadata": {},
     "output_type": "execute_result"
    }
   ],
   "source": [
    "X_train, X_test, Y_train, Y_test = train_test_split(X, Y, test_size=0.2, random_state = 12)\n",
    "pipeline.fit(X_train, Y_train)"
   ]
  },
  {
   "cell_type": "markdown",
   "metadata": {},
   "source": [
    "### 5. Test your model\n",
    "Report the f1 score, precision and recall for each output category of the dataset. You can do this by iterating through the columns and calling sklearn's `classification_report` on each."
   ]
  },
  {
   "cell_type": "code",
   "execution_count": 9,
   "metadata": {},
   "outputs": [
    {
     "name": "stdout",
     "output_type": "stream",
     "text": [
      "                        precision    recall  f1-score   support\n",
      "\n",
      "               related       0.99      1.00      0.99     15942\n",
      "               request       1.00      0.92      0.96      3607\n",
      "                 offer       1.00      0.76      0.86        91\n",
      "           aid_related       1.00      0.97      0.98      8750\n",
      "          medical_help       1.00      0.85      0.92      1684\n",
      "      medical_products       1.00      0.84      0.91      1064\n",
      "     search_and_rescue       1.00      0.79      0.88       582\n",
      "              security       1.00      0.72      0.83       374\n",
      "              military       1.00      0.86      0.92       690\n",
      "                 water       1.00      0.92      0.96      1370\n",
      "                  food       1.00      0.93      0.97      2335\n",
      "               shelter       1.00      0.91      0.95      1862\n",
      "              clothing       1.00      0.84      0.92       313\n",
      "                 money       1.00      0.83      0.91       482\n",
      "        missing_people       1.00      0.77      0.87       232\n",
      "              refugees       1.00      0.80      0.89       718\n",
      "                 death       1.00      0.87      0.93       978\n",
      "             other_aid       1.00      0.83      0.91      2760\n",
      "infrastructure_related       1.00      0.77      0.87      1377\n",
      "             transport       1.00      0.80      0.89       982\n",
      "             buildings       1.00      0.85      0.92      1051\n",
      "           electricity       1.00      0.87      0.93       433\n",
      "                 tools       1.00      0.68      0.81       125\n",
      "             hospitals       1.00      0.74      0.85       219\n",
      "                 shops       1.00      0.67      0.80       101\n",
      "           aid_centers       1.00      0.67      0.80       253\n",
      "  other_infrastructure       1.00      0.74      0.85       932\n",
      "       weather_related       1.00      0.96      0.98      5861\n",
      "                floods       1.00      0.91      0.95      1735\n",
      "                 storm       1.00      0.93      0.96      1978\n",
      "                  fire       1.00      0.84      0.92       224\n",
      "            earthquake       1.00      0.94      0.97      1976\n",
      "                  cold       1.00      0.88      0.94       432\n",
      "         other_weather       1.00      0.79      0.88      1095\n",
      "         direct_report       1.00      0.92      0.96      4097\n",
      "\n",
      "           avg / total       1.00      0.92      0.96     66705\n",
      "\n"
     ]
    }
   ],
   "source": [
    "y_train_pred = pipeline.predict(X_train)\n",
    "\n",
    "# Print classification report on training data\n",
    "print(classification_report(Y_train.values, y_train_pred, target_names=Y.columns.values))"
   ]
  },
  {
   "cell_type": "code",
   "execution_count": 10,
   "metadata": {},
   "outputs": [
    {
     "name": "stdout",
     "output_type": "stream",
     "text": [
      "                        precision    recall  f1-score   support\n",
      "\n",
      "               related       0.82      0.93      0.87      3964\n",
      "               request       0.79      0.38      0.52       867\n",
      "                 offer       0.00      0.00      0.00        27\n",
      "           aid_related       0.73      0.53      0.61      2110\n",
      "          medical_help       0.69      0.10      0.17       400\n",
      "      medical_products       0.52      0.04      0.08       249\n",
      "     search_and_rescue       0.83      0.04      0.07       142\n",
      "              security       0.00      0.00      0.00        97\n",
      "              military       0.62      0.05      0.09       170\n",
      "                 water       0.81      0.30      0.44       302\n",
      "                  food       0.82      0.27      0.40       588\n",
      "               shelter       0.72      0.13      0.22       452\n",
      "              clothing       0.70      0.08      0.14        92\n",
      "                 money       0.71      0.04      0.08       122\n",
      "        missing_people       1.00      0.02      0.03        66\n",
      "              refugees       1.00      0.01      0.03       157\n",
      "                 death       0.78      0.08      0.15       216\n",
      "             other_aid       0.53      0.03      0.05       686\n",
      "infrastructure_related       0.29      0.01      0.01       328\n",
      "             transport       0.88      0.03      0.06       219\n",
      "             buildings       0.74      0.11      0.19       282\n",
      "           electricity       0.62      0.05      0.09        99\n",
      "                 tools       0.00      0.00      0.00        34\n",
      "             hospitals       0.00      0.00      0.00        64\n",
      "                 shops       0.00      0.00      0.00        19\n",
      "           aid_centers       0.00      0.00      0.00        56\n",
      "  other_infrastructure       0.00      0.00      0.00       219\n",
      "       weather_related       0.84      0.51      0.63      1436\n",
      "                floods       0.86      0.30      0.44       420\n",
      "                 storm       0.77      0.36      0.49       465\n",
      "                  fire       1.00      0.02      0.03        58\n",
      "            earthquake       0.88      0.50      0.64       479\n",
      "                  cold       0.55      0.06      0.11        98\n",
      "         other_weather       0.60      0.02      0.04       281\n",
      "         direct_report       0.75      0.34      0.47       978\n",
      "\n",
      "           avg / total       0.74      0.45      0.50     16242\n",
      "\n"
     ]
    }
   ],
   "source": [
    "y_pred = pipeline.predict(X_test)\n",
    "\n",
    "# Print classification report on test data\n",
    "print(classification_report(Y_test.values, y_pred, target_names=Y.columns.values))"
   ]
  },
  {
   "cell_type": "markdown",
   "metadata": {},
   "source": [
    "### 6. Improve your model\n",
    "Use grid search to find better parameters. "
   ]
  },
  {
   "cell_type": "code",
   "execution_count": 11,
   "metadata": {},
   "outputs": [
    {
     "data": {
      "text/plain": [
       "GridSearchCV(cv=None, error_score='raise',\n",
       "       estimator=Pipeline(memory=None,\n",
       "     steps=[('vect', CountVectorizer(analyzer='word', binary=False, decode_error='strict',\n",
       "        dtype=<class 'numpy.int64'>, encoding='utf-8', input='content',\n",
       "        lowercase=True, max_df=1.0, max_features=None, min_df=1,\n",
       "        ngram_range=(1, 1), preprocessor=None, stop_words=None,\n",
       "        strip...oob_score=False, random_state=None, verbose=0,\n",
       "            warm_start=False),\n",
       "           n_jobs=1))]),\n",
       "       fit_params=None, iid=True, n_jobs=-1,\n",
       "       param_grid={'clf__estimator__n_estimators': [10, 25], 'clf__estimator__min_samples_split': [2, 3, 4]},\n",
       "       pre_dispatch='2*n_jobs', refit=True, return_train_score='warn',\n",
       "       scoring='f1_micro', verbose=0)"
      ]
     },
     "execution_count": 11,
     "metadata": {},
     "output_type": "execute_result"
    }
   ],
   "source": [
    "parameters = {#'vect__min_df': [1, 5],\n",
    "              #'tfidf__use_idf':[True, False],\n",
    "              'clf__estimator__n_estimators':[10, 25], \n",
    "              'clf__estimator__min_samples_split':[2, 3, 4]}\n",
    "\n",
    "cv = GridSearchCV(estimator=pipeline, param_grid=parameters, scoring='f1_micro', n_jobs=-1)\n",
    "cv.fit(X_train, Y_train)"
   ]
  },
  {
   "cell_type": "markdown",
   "metadata": {},
   "source": [
    "### 7. Test your model\n",
    "Show the accuracy, precision, and recall of the tuned model.  \n",
    "\n",
    "Since this project focuses on code quality, process, and  pipelines, there is no minimum performance metric needed to pass. However, make sure to fine tune your models for accuracy, precision and recall to make your project stand out - especially for your portfolio!"
   ]
  },
  {
   "cell_type": "code",
   "execution_count": 12,
   "metadata": {},
   "outputs": [
    {
     "name": "stdout",
     "output_type": "stream",
     "text": [
      "                        precision    recall  f1-score   support\n",
      "\n",
      "               related       0.99      1.00      0.99     15942\n",
      "               request       1.00      0.92      0.96      3607\n",
      "                 offer       1.00      0.76      0.86        91\n",
      "           aid_related       1.00      0.97      0.98      8750\n",
      "          medical_help       1.00      0.85      0.92      1684\n",
      "      medical_products       1.00      0.84      0.91      1064\n",
      "     search_and_rescue       1.00      0.79      0.88       582\n",
      "              security       1.00      0.72      0.83       374\n",
      "              military       1.00      0.86      0.92       690\n",
      "                 water       1.00      0.92      0.96      1370\n",
      "                  food       1.00      0.93      0.97      2335\n",
      "               shelter       1.00      0.91      0.95      1862\n",
      "              clothing       1.00      0.84      0.92       313\n",
      "                 money       1.00      0.83      0.91       482\n",
      "        missing_people       1.00      0.77      0.87       232\n",
      "              refugees       1.00      0.80      0.89       718\n",
      "                 death       1.00      0.87      0.93       978\n",
      "             other_aid       1.00      0.83      0.91      2760\n",
      "infrastructure_related       1.00      0.77      0.87      1377\n",
      "             transport       1.00      0.80      0.89       982\n",
      "             buildings       1.00      0.85      0.92      1051\n",
      "           electricity       1.00      0.87      0.93       433\n",
      "                 tools       1.00      0.68      0.81       125\n",
      "             hospitals       1.00      0.74      0.85       219\n",
      "                 shops       1.00      0.67      0.80       101\n",
      "           aid_centers       1.00      0.67      0.80       253\n",
      "  other_infrastructure       1.00      0.74      0.85       932\n",
      "       weather_related       1.00      0.96      0.98      5861\n",
      "                floods       1.00      0.91      0.95      1735\n",
      "                 storm       1.00      0.93      0.96      1978\n",
      "                  fire       1.00      0.84      0.92       224\n",
      "            earthquake       1.00      0.94      0.97      1976\n",
      "                  cold       1.00      0.88      0.94       432\n",
      "         other_weather       1.00      0.79      0.88      1095\n",
      "         direct_report       1.00      0.92      0.96      4097\n",
      "\n",
      "           avg / total       1.00      0.92      0.96     66705\n",
      "\n"
     ]
    }
   ],
   "source": [
    "# Get the prediction values from the grid search cross validator\n",
    "\n",
    "y_train_pred = pipeline.predict(X_train)\n",
    "\n",
    "# Print classification report on training data\n",
    "print(classification_report(Y_train.values, y_train_pred, target_names=Y.columns.values))"
   ]
  },
  {
   "cell_type": "code",
   "execution_count": 13,
   "metadata": {},
   "outputs": [
    {
     "name": "stdout",
     "output_type": "stream",
     "text": [
      "                        precision    recall  f1-score   support\n",
      "\n",
      "               related       0.82      0.93      0.87      3964\n",
      "               request       0.79      0.38      0.52       867\n",
      "                 offer       0.00      0.00      0.00        27\n",
      "           aid_related       0.73      0.53      0.61      2110\n",
      "          medical_help       0.69      0.10      0.17       400\n",
      "      medical_products       0.52      0.04      0.08       249\n",
      "     search_and_rescue       0.83      0.04      0.07       142\n",
      "              security       0.00      0.00      0.00        97\n",
      "              military       0.62      0.05      0.09       170\n",
      "                 water       0.81      0.30      0.44       302\n",
      "                  food       0.82      0.27      0.40       588\n",
      "               shelter       0.72      0.13      0.22       452\n",
      "              clothing       0.70      0.08      0.14        92\n",
      "                 money       0.71      0.04      0.08       122\n",
      "        missing_people       1.00      0.02      0.03        66\n",
      "              refugees       1.00      0.01      0.03       157\n",
      "                 death       0.78      0.08      0.15       216\n",
      "             other_aid       0.53      0.03      0.05       686\n",
      "infrastructure_related       0.29      0.01      0.01       328\n",
      "             transport       0.88      0.03      0.06       219\n",
      "             buildings       0.74      0.11      0.19       282\n",
      "           electricity       0.62      0.05      0.09        99\n",
      "                 tools       0.00      0.00      0.00        34\n",
      "             hospitals       0.00      0.00      0.00        64\n",
      "                 shops       0.00      0.00      0.00        19\n",
      "           aid_centers       0.00      0.00      0.00        56\n",
      "  other_infrastructure       0.00      0.00      0.00       219\n",
      "       weather_related       0.84      0.51      0.63      1436\n",
      "                floods       0.86      0.30      0.44       420\n",
      "                 storm       0.77      0.36      0.49       465\n",
      "                  fire       1.00      0.02      0.03        58\n",
      "            earthquake       0.88      0.50      0.64       479\n",
      "                  cold       0.55      0.06      0.11        98\n",
      "         other_weather       0.60      0.02      0.04       281\n",
      "         direct_report       0.75      0.34      0.47       978\n",
      "\n",
      "           avg / total       0.74      0.45      0.50     16242\n",
      "\n"
     ]
    }
   ],
   "source": [
    "y_pred = pipeline.predict(X_test)\n",
    "\n",
    "# Print classification report on test data\n",
    "print(classification_report(Y_test.values, y_pred, target_names=Y.columns.values))"
   ]
  },
  {
   "cell_type": "markdown",
   "metadata": {},
   "source": [
    "### 8. Try improving your model further. Here are a few ideas:\n",
    "* try other machine learning algorithms\n",
    "* add other features besides the TF-IDF"
   ]
  },
  {
   "cell_type": "code",
   "execution_count": 14,
   "metadata": {},
   "outputs": [],
   "source": [
    "pipeline2 = Pipeline([\n",
    "        ('features', FeatureUnion([\n",
    "\n",
    "            ('text_pipeline', Pipeline([\n",
    "                ('count_vectorizer', CountVectorizer(tokenizer=tokenize)),\n",
    "                ('tfidf_transformer', TfidfTransformer())\n",
    "            ])),\n",
    "\n",
    "        ])),\n",
    "\n",
    "        ('classifier', MultiOutputClassifier(AdaBoostClassifier()))\n",
    "    ])"
   ]
  },
  {
   "cell_type": "code",
   "execution_count": 15,
   "metadata": {},
   "outputs": [
    {
     "name": "stdout",
     "output_type": "stream",
     "text": [
      "                        precision    recall  f1-score   support\n",
      "\n",
      "               related       0.82      0.93      0.88      3964\n",
      "               request       0.79      0.37      0.51       867\n",
      "                 offer       0.00      0.00      0.00        27\n",
      "           aid_related       0.75      0.51      0.61      2110\n",
      "          medical_help       0.64      0.09      0.15       400\n",
      "      medical_products       0.81      0.12      0.20       249\n",
      "     search_and_rescue       0.68      0.12      0.20       142\n",
      "              security       0.00      0.00      0.00        97\n",
      "              military       0.43      0.06      0.10       170\n",
      "                 water       0.82      0.24      0.37       302\n",
      "                  food       0.83      0.29      0.42       588\n",
      "               shelter       0.78      0.23      0.36       452\n",
      "              clothing       0.75      0.13      0.22        92\n",
      "                 money       1.00      0.05      0.09       122\n",
      "        missing_people       1.00      0.08      0.14        66\n",
      "              refugees       0.20      0.01      0.01       157\n",
      "                 death       0.70      0.09      0.16       216\n",
      "             other_aid       0.42      0.03      0.06       686\n",
      "infrastructure_related       0.00      0.00      0.00       328\n",
      "             transport       0.74      0.08      0.14       219\n",
      "             buildings       0.76      0.07      0.12       282\n",
      "           electricity       0.88      0.07      0.13        99\n",
      "                 tools       0.00      0.00      0.00        34\n",
      "             hospitals       0.00      0.00      0.00        64\n",
      "                 shops       0.00      0.00      0.00        19\n",
      "           aid_centers       0.00      0.00      0.00        56\n",
      "  other_infrastructure       0.25      0.00      0.01       219\n",
      "       weather_related       0.82      0.51      0.63      1436\n",
      "                floods       0.90      0.24      0.38       420\n",
      "                 storm       0.78      0.32      0.45       465\n",
      "                  fire       0.00      0.00      0.00        58\n",
      "            earthquake       0.90      0.57      0.69       479\n",
      "                  cold       0.78      0.07      0.13        98\n",
      "         other_weather       0.42      0.02      0.03       281\n",
      "         direct_report       0.76      0.32      0.45       978\n",
      "\n",
      "           avg / total       0.73      0.44      0.50     16242\n",
      "\n"
     ]
    }
   ],
   "source": [
    "X_train, X_test, Y_train, Y_test = train_test_split(X, Y, test_size=0.2, random_state = 12)\n",
    "\n",
    "model = pipeline.fit(X_train, Y_train)\n",
    "\n",
    "y_pred = model.predict(X_test)\n",
    "\n",
    "# Print classification report on test data\n",
    "print(classification_report(Y_test.values, y_pred, target_names=Y.columns.values))"
   ]
  },
  {
   "cell_type": "markdown",
   "metadata": {},
   "source": [
    "### 9. Export your model as a pickle file"
   ]
  },
  {
   "cell_type": "code",
   "execution_count": 16,
   "metadata": {},
   "outputs": [],
   "source": [
    "pickle.dump(model, open('classifier.pkl', 'wb'))"
   ]
  },
  {
   "cell_type": "markdown",
   "metadata": {},
   "source": [
    "### 10. Use this notebook to complete `train.py`\n",
    "Use the template file attached in the Resources folder to write a script that runs the steps above to create a database and export a model based on a new dataset specified by the user."
   ]
  },
  {
   "cell_type": "code",
   "execution_count": 17,
   "metadata": {},
   "outputs": [
    {
     "name": "stdout",
     "output_type": "stream",
     "text": [
      "categories.csv                     ML Pipeline Preparation.ipynb\r\n",
      "DisasterResponse.db                ML Pipeline Preparation-zh.ipynb\r\n",
      "ETL Pipeline Preparation.ipynb     model.sav\r\n",
      "ETL Pipeline Preparation-zh.ipynb  Twitter-sentiment-self-drive-DFE.csv\r\n",
      "messages.csv\r\n"
     ]
    }
   ],
   "source": [
    "ls"
   ]
  },
  {
   "cell_type": "code",
   "execution_count": 19,
   "metadata": {},
   "outputs": [
    {
     "data": {
      "text/plain": [
       "Pipeline(memory=None,\n",
       "     steps=[('vect', CountVectorizer(analyzer='word', binary=False, decode_error='strict',\n",
       "        dtype=<class 'numpy.int64'>, encoding='utf-8', input='content',\n",
       "        lowercase=True, max_df=1.0, max_features=None, min_df=1,\n",
       "        ngram_range=(1, 1), preprocessor=None, stop_words=None,\n",
       "        strip...oob_score=False, random_state=None, verbose=0,\n",
       "            warm_start=False),\n",
       "           n_jobs=1))])"
      ]
     },
     "execution_count": 19,
     "metadata": {},
     "output_type": "execute_result"
    }
   ],
   "source": [
    "import joblib as joblib\n",
    "\n",
    "joblib.load(\"classifier.pkl\")"
   ]
  },
  {
   "cell_type": "code",
   "execution_count": null,
   "metadata": {},
   "outputs": [],
   "source": []
  }
 ],
 "metadata": {
  "kernelspec": {
   "display_name": "Python 3",
   "language": "python",
   "name": "python3"
  },
  "language_info": {
   "codemirror_mode": {
    "name": "ipython",
    "version": 3
   },
   "file_extension": ".py",
   "mimetype": "text/x-python",
   "name": "python",
   "nbconvert_exporter": "python",
   "pygments_lexer": "ipython3",
   "version": "3.6.3"
  }
 },
 "nbformat": 4,
 "nbformat_minor": 2
}
